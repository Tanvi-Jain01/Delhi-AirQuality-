{
 "cells": [
  {
   "cell_type": "code",
   "execution_count": 1,
   "id": "3cd2b167",
   "metadata": {},
   "outputs": [],
   "source": [
    "import xarray as xr\n",
    "import numpy as np\n",
    "import pandas as pd\n",
    "import geopandas as gpd\n",
    "\n",
    "import plotly.express as px\n",
    "import matplotlib.pyplot as plt\n",
    "from sklearn.linear_model import LinearRegression,Lasso\n"
   ]
  },
  {
   "cell_type": "code",
   "execution_count": 3,
   "id": "b998453d",
   "metadata": {},
   "outputs": [
    {
     "name": "stdout",
     "output_type": "stream",
     "text": [
      "           date      pm25        o3        ws        wd\n",
      "0    2022-01-01  0.374540  0.386103  0.164266  0.176528\n",
      "1    2022-01-02  0.950714  0.961191  0.814575  0.220486\n",
      "2    2022-01-03  0.731994  0.905351  0.665197  0.186438\n",
      "3    2022-01-04  0.598658  0.195791  0.523065  0.779584\n",
      "4    2022-01-05  0.156019  0.069361  0.358830  0.350125\n",
      "..          ...       ...       ...       ...       ...\n",
      "360  2022-12-27  0.388170  0.841829  0.942732  0.930949\n",
      "361  2022-12-28  0.643288  0.139772  0.649647  0.689527\n",
      "362  2022-12-29  0.458253  0.795267  0.607737  0.676513\n",
      "363  2022-12-30  0.545617  0.201627  0.512689  0.215675\n",
      "364  2022-12-31  0.941465  0.163656  0.230670  0.658885\n",
      "\n",
      "[365 rows x 5 columns]\n"
     ]
    }
   ],
   "source": [
    "\n",
    "np.random.seed(42)  \n",
    "\n",
    "start_date = pd.to_datetime('2022-01-01')\n",
    "end_date = pd.to_datetime('2022-12-31')\n",
    "\n",
    "dates = pd.date_range(start_date, end_date)\n",
    "\n",
    "pm25_values = np.random.rand(365)  # Generate 365 random values\n",
    "o3_values = np.random.rand(365) \n",
    "ws_values = np.random.rand(365)\n",
    "wd_values = np.random.rand(365)\n",
    "\n",
    "\n",
    "df = pd.DataFrame({\n",
    "    'date': dates,\n",
    "    'pm25': pm25_values,\n",
    "    'o3':o3_values,\n",
    "    'ws': ws_values,\n",
    "    'wd': wd_values\n",
    "})\n",
    "\n",
    "df['date'] = df['date'].dt.strftime('%Y-%m-%d')  # Convert date format to 'YYYY-MM-DD'\n",
    "\n",
    "print(df)\n"
   ]
  },
  {
   "cell_type": "code",
   "execution_count": 6,
   "id": "f5e58354",
   "metadata": {},
   "outputs": [
    {
     "ename": "AttributeError",
     "evalue": "'DataFrame' object has no attribute 'pm10'",
     "output_type": "error",
     "traceback": [
      "\u001b[1;31m---------------------------------------------------------------------------\u001b[0m",
      "\u001b[1;31mAttributeError\u001b[0m                            Traceback (most recent call last)",
      "Cell \u001b[1;32mIn[6], line 6\u001b[0m\n\u001b[0;32m      3\u001b[0m pollutants\u001b[38;5;241m=\u001b[39m[\u001b[38;5;124m'\u001b[39m\u001b[38;5;124mo3\u001b[39m\u001b[38;5;124m'\u001b[39m,\u001b[38;5;124m'\u001b[39m\u001b[38;5;124mpm25\u001b[39m\u001b[38;5;124m'\u001b[39m]\n\u001b[0;32m      5\u001b[0m \u001b[38;5;28;01mfor\u001b[39;00m pollutant \u001b[38;5;129;01min\u001b[39;00m pollutants:\n\u001b[1;32m----> 6\u001b[0m     \u001b[43mscatterPlot\u001b[49m\u001b[43m(\u001b[49m\u001b[43mdf\u001b[49m\u001b[43m,\u001b[49m\u001b[43m \u001b[49m\u001b[38;5;124;43m'\u001b[39;49m\u001b[38;5;124;43mo3\u001b[39;49m\u001b[38;5;124;43m'\u001b[39;49m\u001b[43m,\u001b[49m\u001b[43m \u001b[49m\u001b[43mpollutant\u001b[49m\u001b[43m)\u001b[49m\n",
      "File \u001b[1;32m~\\anaconda3\\lib\\site-packages\\vayu\\scatterPlot.py:22\u001b[0m, in \u001b[0;36mscatterPlot\u001b[1;34m(df, x, y, **kwargs)\u001b[0m\n\u001b[0;32m     19\u001b[0m \u001b[38;5;28;01mimport\u001b[39;00m \u001b[38;5;21;01mmatplotlib\u001b[39;00m\u001b[38;5;21;01m.\u001b[39;00m\u001b[38;5;21;01mcm\u001b[39;00m \u001b[38;5;28;01mas\u001b[39;00m \u001b[38;5;21;01mcm\u001b[39;00m\n\u001b[0;32m     20\u001b[0m \u001b[38;5;28;01mfrom\u001b[39;00m \u001b[38;5;21;01mmath\u001b[39;00m \u001b[38;5;28;01mimport\u001b[39;00m pi\n\u001b[1;32m---> 22\u001b[0m pm10 \u001b[38;5;241m=\u001b[39m \u001b[43mdf\u001b[49m\u001b[38;5;241;43m.\u001b[39;49m\u001b[43mpm10\u001b[49m\n\u001b[0;32m     23\u001b[0m o3 \u001b[38;5;241m=\u001b[39m df\u001b[38;5;241m.\u001b[39mo3\n\u001b[0;32m     24\u001b[0m ws \u001b[38;5;241m=\u001b[39m df\u001b[38;5;241m.\u001b[39mws\n",
      "File \u001b[1;32m~\\anaconda3\\lib\\site-packages\\pandas\\core\\generic.py:5902\u001b[0m, in \u001b[0;36mNDFrame.__getattr__\u001b[1;34m(self, name)\u001b[0m\n\u001b[0;32m   5895\u001b[0m \u001b[38;5;28;01mif\u001b[39;00m (\n\u001b[0;32m   5896\u001b[0m     name \u001b[38;5;129;01mnot\u001b[39;00m \u001b[38;5;129;01min\u001b[39;00m \u001b[38;5;28mself\u001b[39m\u001b[38;5;241m.\u001b[39m_internal_names_set\n\u001b[0;32m   5897\u001b[0m     \u001b[38;5;129;01mand\u001b[39;00m name \u001b[38;5;129;01mnot\u001b[39;00m \u001b[38;5;129;01min\u001b[39;00m \u001b[38;5;28mself\u001b[39m\u001b[38;5;241m.\u001b[39m_metadata\n\u001b[0;32m   5898\u001b[0m     \u001b[38;5;129;01mand\u001b[39;00m name \u001b[38;5;129;01mnot\u001b[39;00m \u001b[38;5;129;01min\u001b[39;00m \u001b[38;5;28mself\u001b[39m\u001b[38;5;241m.\u001b[39m_accessors\n\u001b[0;32m   5899\u001b[0m     \u001b[38;5;129;01mand\u001b[39;00m \u001b[38;5;28mself\u001b[39m\u001b[38;5;241m.\u001b[39m_info_axis\u001b[38;5;241m.\u001b[39m_can_hold_identifiers_and_holds_name(name)\n\u001b[0;32m   5900\u001b[0m ):\n\u001b[0;32m   5901\u001b[0m     \u001b[38;5;28;01mreturn\u001b[39;00m \u001b[38;5;28mself\u001b[39m[name]\n\u001b[1;32m-> 5902\u001b[0m \u001b[38;5;28;01mreturn\u001b[39;00m \u001b[38;5;28;43mobject\u001b[39;49m\u001b[38;5;241;43m.\u001b[39;49m\u001b[38;5;21;43m__getattribute__\u001b[39;49m\u001b[43m(\u001b[49m\u001b[38;5;28;43mself\u001b[39;49m\u001b[43m,\u001b[49m\u001b[43m \u001b[49m\u001b[43mname\u001b[49m\u001b[43m)\u001b[49m\n",
      "\u001b[1;31mAttributeError\u001b[0m: 'DataFrame' object has no attribute 'pm10'"
     ]
    }
   ],
   "source": [
    "\n",
    "from vayu.scatterPlot import scatterPlot\n",
    "\n",
    "pollutants=['o3','pm25']\n",
    "\n",
    "for pollutant in pollutants:\n",
    "    scatterPlot(df, 'o3', pollutant)"
   ]
  },
  {
   "cell_type": "code",
   "execution_count": null,
   "id": "f73e43c4",
   "metadata": {},
   "outputs": [],
   "source": []
  }
 ],
 "metadata": {
  "kernelspec": {
   "display_name": "Python 3 (ipykernel)",
   "language": "python",
   "name": "python3"
  },
  "language_info": {
   "codemirror_mode": {
    "name": "ipython",
    "version": 3
   },
   "file_extension": ".py",
   "mimetype": "text/x-python",
   "name": "python",
   "nbconvert_exporter": "python",
   "pygments_lexer": "ipython3",
   "version": "3.10.9"
  }
 },
 "nbformat": 4,
 "nbformat_minor": 5
}
