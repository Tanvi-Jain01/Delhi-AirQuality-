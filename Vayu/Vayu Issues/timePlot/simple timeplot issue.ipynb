{
 "cells": [
  {
   "cell_type": "code",
   "execution_count": 1,
   "id": "3cd2b167",
   "metadata": {},
   "outputs": [],
   "source": [
    "import xarray as xr\n",
    "import numpy as np\n",
    "import pandas as pd\n",
    "import geopandas as gpd\n",
    "\n",
    "import plotly.express as px\n",
    "import matplotlib.pyplot as plt\n",
    "from sklearn.linear_model import LinearRegression,Lasso\n"
   ]
  },
  {
   "cell_type": "code",
   "execution_count": 7,
   "id": "b998453d",
   "metadata": {},
   "outputs": [
    {
     "name": "stdout",
     "output_type": "stream",
     "text": [
      "           date      pm25        ws        wd\n",
      "0    2022-01-01  0.374540  0.164266  0.176528\n",
      "1    2022-01-02  0.950714  0.814575  0.220486\n",
      "2    2022-01-03  0.731994  0.665197  0.186438\n",
      "3    2022-01-04  0.598658  0.523065  0.779584\n",
      "4    2022-01-05  0.156019  0.358830  0.350125\n",
      "..          ...       ...       ...       ...\n",
      "360  2022-12-27  0.388170  0.942732  0.930949\n",
      "361  2022-12-28  0.643288  0.649647  0.689527\n",
      "362  2022-12-29  0.458253  0.607737  0.676513\n",
      "363  2022-12-30  0.545617  0.512689  0.215675\n",
      "364  2022-12-31  0.941465  0.230670  0.658885\n",
      "\n",
      "[365 rows x 4 columns]\n"
     ]
    }
   ],
   "source": [
    "\n",
    "np.random.seed(42)  \n",
    "\n",
    "start_date = pd.to_datetime('2022-01-01')\n",
    "end_date = pd.to_datetime('2022-12-31')\n",
    "\n",
    "dates = pd.date_range(start_date, end_date)\n",
    "\n",
    "pm25_values = np.random.rand(365)\n",
    "ws_values = np.random.rand(365)\n",
    "wd_values = np.random.rand(365)\n",
    "\n",
    "df = pd.DataFrame({\n",
    "    'date': dates,\n",
    "    'pm25': pm25_values,\n",
    "    'ws': ws_values,\n",
    "    'wd': wd_values\n",
    "})\n",
    "\n",
    "df['date'] = df['date'].dt.strftime('%Y-%m-%d')  # Convert date format to 'YYYY-MM-DD'\n",
    "\n",
    "print(df)\n"
   ]
  },
  {
   "cell_type": "code",
   "execution_count": 8,
   "id": "f5e58354",
   "metadata": {},
   "outputs": [
    {
     "name": "stderr",
     "output_type": "stream",
     "text": [
      "C:\\Users\\Harshit Jain\\anaconda3\\lib\\site-packages\\vayu\\timePlot.py:26: FutureWarning: Indexing a DataFrame with a datetimelike index using a single string to slice the rows, like `frame[string]`, is deprecated and will be removed in a future version. Use `frame.loc[string]` instead.\n",
      "  df_n = df[year]\n"
     ]
    },
    {
     "ename": "ValueError",
     "evalue": "Single argument to subplot must be a three-digit integer, not '510'",
     "output_type": "error",
     "traceback": [
      "\u001b[1;31m---------------------------------------------------------------------------\u001b[0m",
      "\u001b[1;31mValueError\u001b[0m                                Traceback (most recent call last)",
      "Cell \u001b[1;32mIn[8], line 3\u001b[0m\n\u001b[0;32m      1\u001b[0m \u001b[38;5;28;01mfrom\u001b[39;00m \u001b[38;5;21;01mvayu\u001b[39;00m\u001b[38;5;21;01m.\u001b[39;00m\u001b[38;5;21;01mtimePlot\u001b[39;00m \u001b[38;5;28;01mimport\u001b[39;00m timePlot\n\u001b[1;32m----> 3\u001b[0m axes\u001b[38;5;241m=\u001b[39m\u001b[43mtimePlot\u001b[49m\u001b[43m(\u001b[49m\u001b[43mdf\u001b[49m\u001b[43m,\u001b[49m\u001b[38;5;124;43m'\u001b[39;49m\u001b[38;5;124;43m2022\u001b[39;49m\u001b[38;5;124;43m'\u001b[39;49m\u001b[43m,\u001b[49m\u001b[43m \u001b[49m\u001b[38;5;241;43m5\u001b[39;49m\u001b[43m)\u001b[49m\n",
      "File \u001b[1;32m~\\anaconda3\\lib\\site-packages\\vayu\\timePlot.py:46\u001b[0m, in \u001b[0;36mtimePlot\u001b[1;34m(df, year, month, pollutants)\u001b[0m\n\u001b[0;32m     43\u001b[0m color \u001b[38;5;241m=\u001b[39m color_list[ix \u001b[38;5;241m%\u001b[39m \u001b[38;5;28mlen\u001b[39m(color_list)]\n\u001b[0;32m     45\u001b[0m \u001b[38;5;66;03m# plotting\u001b[39;00m\n\u001b[1;32m---> 46\u001b[0m \u001b[43mplt\u001b[49m\u001b[38;5;241;43m.\u001b[39;49m\u001b[43msubplot\u001b[49m\u001b[43m(\u001b[49m\u001b[38;5;124;43mf\u001b[39;49m\u001b[38;5;124;43m\"\u001b[39;49m\u001b[38;5;132;43;01m{\u001b[39;49;00m\u001b[38;5;28;43mlen\u001b[39;49m\u001b[43m(\u001b[49m\u001b[43mpollutants\u001b[49m\u001b[43m)\u001b[49m\u001b[38;5;132;43;01m}\u001b[39;49;00m\u001b[38;5;124;43m1\u001b[39;49m\u001b[38;5;132;43;01m{\u001b[39;49;00m\u001b[43mix\u001b[49m\u001b[38;5;132;43;01m}\u001b[39;49;00m\u001b[38;5;124;43m\"\u001b[39;49m\u001b[43m)\u001b[49m\n\u001b[0;32m     47\u001b[0m a \u001b[38;5;241m=\u001b[39m values\u001b[38;5;241m.\u001b[39mplot\u001b[38;5;241m.\u001b[39mline(color\u001b[38;5;241m=\u001b[39mcolor)\n\u001b[0;32m     48\u001b[0m a\u001b[38;5;241m.\u001b[39maxes\u001b[38;5;241m.\u001b[39mget_xaxis()\u001b[38;5;241m.\u001b[39mset_visible(\u001b[38;5;28;01mFalse\u001b[39;00m)\n",
      "File \u001b[1;32m~\\anaconda3\\lib\\site-packages\\matplotlib\\pyplot.py:1323\u001b[0m, in \u001b[0;36msubplot\u001b[1;34m(*args, **kwargs)\u001b[0m\n\u001b[0;32m   1320\u001b[0m fig \u001b[38;5;241m=\u001b[39m gcf()\n\u001b[0;32m   1322\u001b[0m \u001b[38;5;66;03m# First, search for an existing subplot with a matching spec.\u001b[39;00m\n\u001b[1;32m-> 1323\u001b[0m key \u001b[38;5;241m=\u001b[39m \u001b[43mSubplotSpec\u001b[49m\u001b[38;5;241;43m.\u001b[39;49m\u001b[43m_from_subplot_args\u001b[49m\u001b[43m(\u001b[49m\u001b[43mfig\u001b[49m\u001b[43m,\u001b[49m\u001b[43m \u001b[49m\u001b[43margs\u001b[49m\u001b[43m)\u001b[49m\n\u001b[0;32m   1325\u001b[0m \u001b[38;5;28;01mfor\u001b[39;00m ax \u001b[38;5;129;01min\u001b[39;00m fig\u001b[38;5;241m.\u001b[39maxes:\n\u001b[0;32m   1326\u001b[0m     \u001b[38;5;66;03m# if we found an Axes at the position sort out if we can re-use it\u001b[39;00m\n\u001b[0;32m   1327\u001b[0m     \u001b[38;5;28;01mif\u001b[39;00m ax\u001b[38;5;241m.\u001b[39mget_subplotspec() \u001b[38;5;241m==\u001b[39m key:\n\u001b[0;32m   1328\u001b[0m         \u001b[38;5;66;03m# if the user passed no kwargs, re-use\u001b[39;00m\n",
      "File \u001b[1;32m~\\anaconda3\\lib\\site-packages\\matplotlib\\gridspec.py:573\u001b[0m, in \u001b[0;36mSubplotSpec._from_subplot_args\u001b[1;34m(figure, args)\u001b[0m\n\u001b[0;32m    571\u001b[0m     \u001b[38;5;28;01mreturn\u001b[39;00m arg\n\u001b[0;32m    572\u001b[0m \u001b[38;5;28;01melif\u001b[39;00m \u001b[38;5;129;01mnot\u001b[39;00m \u001b[38;5;28misinstance\u001b[39m(arg, Integral):\n\u001b[1;32m--> 573\u001b[0m     \u001b[38;5;28;01mraise\u001b[39;00m \u001b[38;5;167;01mValueError\u001b[39;00m(\n\u001b[0;32m    574\u001b[0m         \u001b[38;5;124mf\u001b[39m\u001b[38;5;124m\"\u001b[39m\u001b[38;5;124mSingle argument to subplot must be a three-digit \u001b[39m\u001b[38;5;124m\"\u001b[39m\n\u001b[0;32m    575\u001b[0m         \u001b[38;5;124mf\u001b[39m\u001b[38;5;124m\"\u001b[39m\u001b[38;5;124minteger, not \u001b[39m\u001b[38;5;132;01m{\u001b[39;00marg\u001b[38;5;132;01m!r}\u001b[39;00m\u001b[38;5;124m\"\u001b[39m)\n\u001b[0;32m    576\u001b[0m \u001b[38;5;28;01mtry\u001b[39;00m:\n\u001b[0;32m    577\u001b[0m     rows, cols, num \u001b[38;5;241m=\u001b[39m \u001b[38;5;28mmap\u001b[39m(\u001b[38;5;28mint\u001b[39m, \u001b[38;5;28mstr\u001b[39m(arg))\n",
      "\u001b[1;31mValueError\u001b[0m: Single argument to subplot must be a three-digit integer, not '510'"
     ]
    },
    {
     "data": {
      "text/plain": [
       "<Figure size 640x480 with 0 Axes>"
      ]
     },
     "metadata": {},
     "output_type": "display_data"
    }
   ],
   "source": [
    "\n",
    "from vayu.timePlot import timePlot\n",
    "\n",
    "axes=timePlot(df,'2022', 5)"
   ]
  },
  {
   "cell_type": "code",
   "execution_count": null,
   "id": "f73e43c4",
   "metadata": {},
   "outputs": [],
   "source": []
  }
 ],
 "metadata": {
  "kernelspec": {
   "display_name": "Python 3 (ipykernel)",
   "language": "python",
   "name": "python3"
  },
  "language_info": {
   "codemirror_mode": {
    "name": "ipython",
    "version": 3
   },
   "file_extension": ".py",
   "mimetype": "text/x-python",
   "name": "python",
   "nbconvert_exporter": "python",
   "pygments_lexer": "ipython3",
   "version": "3.10.9"
  }
 },
 "nbformat": 4,
 "nbformat_minor": 5
}
