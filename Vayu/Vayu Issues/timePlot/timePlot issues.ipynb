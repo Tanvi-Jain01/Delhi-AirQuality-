{
 "cells": [
  {
   "cell_type": "code",
   "execution_count": 2,
   "id": "6701857b",
   "metadata": {},
   "outputs": [],
   "source": [
    "import xarray as xr\n",
    "import pandas as pd\n",
    "import numpy as np"
   ]
  },
  {
   "cell_type": "markdown",
   "id": "ca37c73d",
   "metadata": {},
   "source": [
    "\n",
    "# Dataframe"
   ]
  },
  {
   "cell_type": "code",
   "execution_count": 3,
   "id": "a6025c8b",
   "metadata": {},
   "outputs": [
    {
     "name": "stdout",
     "output_type": "stream",
     "text": [
      "                      station       date   latitude  longitude        pm25  \\\n",
      "index                                                                        \n",
      "13376  Wazirpur, Delhi - DPCC 2022-01-01  28.699793  77.165453  287.269231   \n",
      "13377  Wazirpur, Delhi - DPCC 2022-01-02  28.699793  77.165453  307.791667   \n",
      "13378  Wazirpur, Delhi - DPCC 2022-01-03  28.699793  77.165453  310.250000   \n",
      "13379  Wazirpur, Delhi - DPCC 2022-01-04  28.699793  77.165453  301.187500   \n",
      "13380  Wazirpur, Delhi - DPCC 2022-01-05  28.699793  77.165453  317.885417   \n",
      "...                       ...        ...        ...        ...         ...   \n",
      "13736  Wazirpur, Delhi - DPCC 2022-12-27  28.699793  77.165453  232.427083   \n",
      "13737  Wazirpur, Delhi - DPCC 2022-12-28  28.699793  77.165453  182.781250   \n",
      "13738  Wazirpur, Delhi - DPCC 2022-12-29  28.699793  77.165453  256.239583   \n",
      "13739  Wazirpur, Delhi - DPCC 2022-12-30  28.699793  77.165453  325.378333   \n",
      "13740  Wazirpur, Delhi - DPCC 2022-12-31  28.699793  77.165453  184.802083   \n",
      "\n",
      "             pm10          no        no2         nox         nh3  ...  \\\n",
      "index                                                             ...   \n",
      "13376  475.480769  118.381538  51.310000  169.046923   86.561538  ...   \n",
      "13377  453.968750   96.006250  50.190000  145.770000   88.219583  ...   \n",
      "13378  479.833333   91.113750  53.621250  144.687917   85.740000  ...   \n",
      "13379  493.656250  106.824583  50.361250  157.067917   84.649167  ...   \n",
      "13380  407.291667   73.938750  37.500417  111.499167   89.224167  ...   \n",
      "...           ...         ...        ...         ...         ...  ...   \n",
      "13736  337.281250   27.374286  32.412857   59.823810   85.049583  ...   \n",
      "13737  305.708333   35.060833  45.533333   80.560833   89.303750  ...   \n",
      "13738  434.375000   42.680909  53.866364   96.632727   94.910833  ...   \n",
      "13739  509.857500   57.443750  45.899583  103.370000  109.907500  ...   \n",
      "13740  282.937500   22.763750  27.212083   49.961667   99.947500  ...   \n",
      "\n",
      "        benzene   toluene         rh        ws          wd          sr  \\\n",
      "index                                                                    \n",
      "13376  2.760769  5.623077  63.996154  2.021538  256.206923   93.873077   \n",
      "13377  3.176250  5.516667  71.042083  1.754167  265.057083   67.770000   \n",
      "13378  2.984167  5.445833  69.082917  1.660000  271.797917   76.447083   \n",
      "13379  3.410476  5.166250  63.296667  1.560833  211.958750   70.002917   \n",
      "13380  3.643333  4.630417  82.289583  2.110417  138.753750   15.398750   \n",
      "...         ...       ...        ...       ...         ...         ...   \n",
      "13736       NaN       NaN  78.898750  2.072500  268.413750   91.701667   \n",
      "13737  0.000000  0.000000  67.965833  2.786250  290.773333  100.120417   \n",
      "13738  0.000000  0.000000  63.645000  2.580417  201.691667   71.483750   \n",
      "13739  0.000000  0.000000  70.535000  3.725833  176.622500   67.180833   \n",
      "13740  0.000000  0.000000  77.682917  2.097500  293.354167   90.565833   \n",
      "\n",
      "               bp         at      rf     totrf  \n",
      "index                                           \n",
      "13376  998.020769  15.554615  0.0000  0.000000  \n",
      "13377  997.311250  14.512500  0.0000  0.000000  \n",
      "13378  995.390417  15.004167  0.0000  0.000000  \n",
      "13379  994.590417  16.178333  0.0000  0.000000  \n",
      "13380  993.660000  14.578333  0.0725  0.291667  \n",
      "...           ...        ...     ...       ...  \n",
      "13736  995.125000  15.952500  0.0000  0.000000  \n",
      "13737  994.383750  17.831250  0.0000  0.000000  \n",
      "13738  995.193750  19.068333  0.0000  0.000000  \n",
      "13739  995.773750  18.880000  0.0000  0.000000  \n",
      "13740  996.615833  18.058333  0.0000  0.000000  \n",
      "\n",
      "[365 rows x 23 columns]\n"
     ]
    }
   ],
   "source": [
    "dailydata=xr.open_dataset(r'C:\\Users\\Harshit Jain\\Desktop\\delhiaq\\daily_data.nc')\n",
    "df=dailydata.to_dataframe()\n",
    "\n",
    "df.columns = df.columns.str.lower()\n",
    "df.rename(columns={'Date':'date','pm2.5':'pm25','ozone':'o3','tot-rf':'totrf'}, inplace=True)\n",
    "df = df[df['station'] == 'Wazirpur, Delhi - DPCC'] \n",
    "#df=df[df['date']=='2022-08-23']\n",
    "print(df)\n"
   ]
  },
  {
   "cell_type": "markdown",
   "id": "6cb6e5ff",
   "metadata": {},
   "source": [
    "# Vayu Implmentation"
   ]
  },
  {
   "cell_type": "code",
   "execution_count": 4,
   "id": "b9876755",
   "metadata": {},
   "outputs": [
    {
     "name": "stderr",
     "output_type": "stream",
     "text": [
      "C:\\Users\\Harshit Jain\\anaconda3\\lib\\site-packages\\vayu\\timePlot.py:26: FutureWarning: Indexing a DataFrame with a datetimelike index using a single string to slice the rows, like `frame[string]`, is deprecated and will be removed in a future version. Use `frame.loc[string]` instead.\n",
      "  df_n = df[year]\n"
     ]
    },
    {
     "ename": "ValueError",
     "evalue": "Single argument to subplot must be a three-digit integer, not '510'",
     "output_type": "error",
     "traceback": [
      "\u001b[1;31m---------------------------------------------------------------------------\u001b[0m",
      "\u001b[1;31mValueError\u001b[0m                                Traceback (most recent call last)",
      "Cell \u001b[1;32mIn[4], line 4\u001b[0m\n\u001b[0;32m      1\u001b[0m \u001b[38;5;28;01mimport\u001b[39;00m \u001b[38;5;21;01mmatplotlib\u001b[39;00m\n\u001b[0;32m      2\u001b[0m \u001b[38;5;28;01mfrom\u001b[39;00m \u001b[38;5;21;01mvayu\u001b[39;00m\u001b[38;5;21;01m.\u001b[39;00m\u001b[38;5;21;01mtimePlot\u001b[39;00m \u001b[38;5;28;01mimport\u001b[39;00m timePlot\n\u001b[1;32m----> 4\u001b[0m axes\u001b[38;5;241m=\u001b[39m\u001b[43mtimePlot\u001b[49m\u001b[43m(\u001b[49m\u001b[43mdf\u001b[49m\u001b[43m,\u001b[49m\u001b[38;5;124;43m'\u001b[39;49m\u001b[38;5;124;43m2022\u001b[39;49m\u001b[38;5;124;43m'\u001b[39;49m\u001b[43m,\u001b[49m\u001b[43m \u001b[49m\u001b[38;5;241;43m5\u001b[39;49m\u001b[43m)\u001b[49m\n",
      "File \u001b[1;32m~\\anaconda3\\lib\\site-packages\\vayu\\timePlot.py:46\u001b[0m, in \u001b[0;36mtimePlot\u001b[1;34m(df, year, month, pollutants)\u001b[0m\n\u001b[0;32m     43\u001b[0m color \u001b[38;5;241m=\u001b[39m color_list[ix \u001b[38;5;241m%\u001b[39m \u001b[38;5;28mlen\u001b[39m(color_list)]\n\u001b[0;32m     45\u001b[0m \u001b[38;5;66;03m# plotting\u001b[39;00m\n\u001b[1;32m---> 46\u001b[0m \u001b[43mplt\u001b[49m\u001b[38;5;241;43m.\u001b[39;49m\u001b[43msubplot\u001b[49m\u001b[43m(\u001b[49m\u001b[38;5;124;43mf\u001b[39;49m\u001b[38;5;124;43m\"\u001b[39;49m\u001b[38;5;132;43;01m{\u001b[39;49;00m\u001b[38;5;28;43mlen\u001b[39;49m\u001b[43m(\u001b[49m\u001b[43mpollutants\u001b[49m\u001b[43m)\u001b[49m\u001b[38;5;132;43;01m}\u001b[39;49;00m\u001b[38;5;124;43m1\u001b[39;49m\u001b[38;5;132;43;01m{\u001b[39;49;00m\u001b[43mix\u001b[49m\u001b[38;5;132;43;01m}\u001b[39;49;00m\u001b[38;5;124;43m\"\u001b[39;49m\u001b[43m)\u001b[49m\n\u001b[0;32m     47\u001b[0m a \u001b[38;5;241m=\u001b[39m values\u001b[38;5;241m.\u001b[39mplot\u001b[38;5;241m.\u001b[39mline(color\u001b[38;5;241m=\u001b[39mcolor)\n\u001b[0;32m     48\u001b[0m a\u001b[38;5;241m.\u001b[39maxes\u001b[38;5;241m.\u001b[39mget_xaxis()\u001b[38;5;241m.\u001b[39mset_visible(\u001b[38;5;28;01mFalse\u001b[39;00m)\n",
      "File \u001b[1;32m~\\anaconda3\\lib\\site-packages\\matplotlib\\pyplot.py:1323\u001b[0m, in \u001b[0;36msubplot\u001b[1;34m(*args, **kwargs)\u001b[0m\n\u001b[0;32m   1320\u001b[0m fig \u001b[38;5;241m=\u001b[39m gcf()\n\u001b[0;32m   1322\u001b[0m \u001b[38;5;66;03m# First, search for an existing subplot with a matching spec.\u001b[39;00m\n\u001b[1;32m-> 1323\u001b[0m key \u001b[38;5;241m=\u001b[39m \u001b[43mSubplotSpec\u001b[49m\u001b[38;5;241;43m.\u001b[39;49m\u001b[43m_from_subplot_args\u001b[49m\u001b[43m(\u001b[49m\u001b[43mfig\u001b[49m\u001b[43m,\u001b[49m\u001b[43m \u001b[49m\u001b[43margs\u001b[49m\u001b[43m)\u001b[49m\n\u001b[0;32m   1325\u001b[0m \u001b[38;5;28;01mfor\u001b[39;00m ax \u001b[38;5;129;01min\u001b[39;00m fig\u001b[38;5;241m.\u001b[39maxes:\n\u001b[0;32m   1326\u001b[0m     \u001b[38;5;66;03m# if we found an Axes at the position sort out if we can re-use it\u001b[39;00m\n\u001b[0;32m   1327\u001b[0m     \u001b[38;5;28;01mif\u001b[39;00m ax\u001b[38;5;241m.\u001b[39mget_subplotspec() \u001b[38;5;241m==\u001b[39m key:\n\u001b[0;32m   1328\u001b[0m         \u001b[38;5;66;03m# if the user passed no kwargs, re-use\u001b[39;00m\n",
      "File \u001b[1;32m~\\anaconda3\\lib\\site-packages\\matplotlib\\gridspec.py:573\u001b[0m, in \u001b[0;36mSubplotSpec._from_subplot_args\u001b[1;34m(figure, args)\u001b[0m\n\u001b[0;32m    571\u001b[0m     \u001b[38;5;28;01mreturn\u001b[39;00m arg\n\u001b[0;32m    572\u001b[0m \u001b[38;5;28;01melif\u001b[39;00m \u001b[38;5;129;01mnot\u001b[39;00m \u001b[38;5;28misinstance\u001b[39m(arg, Integral):\n\u001b[1;32m--> 573\u001b[0m     \u001b[38;5;28;01mraise\u001b[39;00m \u001b[38;5;167;01mValueError\u001b[39;00m(\n\u001b[0;32m    574\u001b[0m         \u001b[38;5;124mf\u001b[39m\u001b[38;5;124m\"\u001b[39m\u001b[38;5;124mSingle argument to subplot must be a three-digit \u001b[39m\u001b[38;5;124m\"\u001b[39m\n\u001b[0;32m    575\u001b[0m         \u001b[38;5;124mf\u001b[39m\u001b[38;5;124m\"\u001b[39m\u001b[38;5;124minteger, not \u001b[39m\u001b[38;5;132;01m{\u001b[39;00marg\u001b[38;5;132;01m!r}\u001b[39;00m\u001b[38;5;124m\"\u001b[39m)\n\u001b[0;32m    576\u001b[0m \u001b[38;5;28;01mtry\u001b[39;00m:\n\u001b[0;32m    577\u001b[0m     rows, cols, num \u001b[38;5;241m=\u001b[39m \u001b[38;5;28mmap\u001b[39m(\u001b[38;5;28mint\u001b[39m, \u001b[38;5;28mstr\u001b[39m(arg))\n",
      "\u001b[1;31mValueError\u001b[0m: Single argument to subplot must be a three-digit integer, not '510'"
     ]
    },
    {
     "data": {
      "text/plain": [
       "<Figure size 640x480 with 0 Axes>"
      ]
     },
     "metadata": {},
     "output_type": "display_data"
    }
   ],
   "source": [
    "import matplotlib\n",
    "from vayu.timePlot import timePlot\n",
    "\n",
    "axes=timePlot(df,'2022', 5)"
   ]
  },
  {
   "cell_type": "markdown",
   "id": "dc565bad",
   "metadata": {},
   "source": [
    "# Identified Issue"
   ]
  },
  {
   "cell_type": "code",
   "execution_count": null,
   "id": "5c28dbba",
   "metadata": {},
   "outputs": [],
   "source": [
    "ISSUE:\n",
    "    plt.subplot(f\"{len(pollutants)}1{ix}\")\n",
    "    \n",
    "To fix the issue, modify the line to plt.subplot(len(pollutants), 1, ix+1) as it expects: rows, columns, and index."
   ]
  }
 ],
 "metadata": {
  "kernelspec": {
   "display_name": "Python 3 (ipykernel)",
   "language": "python",
   "name": "python3"
  },
  "language_info": {
   "codemirror_mode": {
    "name": "ipython",
    "version": 3
   },
   "file_extension": ".py",
   "mimetype": "text/x-python",
   "name": "python",
   "nbconvert_exporter": "python",
   "pygments_lexer": "ipython3",
   "version": "3.10.9"
  }
 },
 "nbformat": 4,
 "nbformat_minor": 5
}
